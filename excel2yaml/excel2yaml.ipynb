{
 "cells": [
  {
   "attachments": {},
   "cell_type": "markdown",
   "id": "88dd5c9c",
   "metadata": {},
   "source": [
    "## Excel to YAML Conversion Notebook\n",
    "\n",
    "This notebook takes information from the input excel file and dumps them into two configuration (.yaml) files. These files may need further editing after creation depending on one's needs, but this code is a good place to get started.\n",
    "\n",
    "Start by opening up the excel file (\"excel to yaml template.xlsx\"), located in the same folder as this notebook, and replace the variables with that of the data to be fed into the pipeline. See more details on this file in the README. Once completed, run the following code block and it will overwrite \"retriever.yaml\" and \"dataset.yaml\" in this directory. You can then copy-paste the desired contents from these files into the pipeline.\n",
    "\n",
    "Note that this code assumes the input data for the pipeline are basic CSV files, so make sure to update the 'readers' section of the produced retriever.yaml accordingly."
   ]
  },
  {
   "cell_type": "code",
   "execution_count": null,
   "id": "3b2a4a18",
   "metadata": {},
   "outputs": [],
   "source": [
    "from excel2yaml import config_file_converter\n",
    "\n",
    "# Path to excel or spreadsheet file\n",
    "fpath = 'excel to yaml template.xlsx'\n",
    "\n",
    "# Create \"retriever.yaml\" and \"dataset.yaml\"\n",
    "config_file_converter(fpath)"
   ]
  }
 ],
 "metadata": {
  "kernelspec": {
   "display_name": "Python 3 (ipykernel)",
   "language": "python",
   "name": "python3"
  },
  "language_info": {
   "codemirror_mode": {
    "name": "ipython",
    "version": 3
   },
   "file_extension": ".py",
   "mimetype": "text/x-python",
   "name": "python",
   "nbconvert_exporter": "python",
   "pygments_lexer": "ipython3",
   "version": "3.9.15"
  },
  "vscode": {
   "interpreter": {
    "hash": "357206ab7e4935423e95e994af80e27e7e6c0672abcebb9d86ab743298213348"
   }
  }
 },
 "nbformat": 4,
 "nbformat_minor": 5
}
