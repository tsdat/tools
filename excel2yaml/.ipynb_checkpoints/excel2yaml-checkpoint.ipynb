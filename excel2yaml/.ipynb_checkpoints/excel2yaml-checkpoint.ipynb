{
 "cells": [
  {
   "cell_type": "markdown",
   "id": "88dd5c9c",
   "metadata": {},
   "source": [
    "## Excel to YAML Conversion Notebook\n"
   ]
  },
  {
   "cell_type": "code",
   "execution_count": 1,
   "id": "3b2a4a18",
   "metadata": {},
   "outputs": [],
   "source": [
    "# Path to excel or spreadsheet file\n",
    "fpath = 'excel to yaml template.xlsx'"
   ]
  },
  {
   "cell_type": "markdown",
   "id": "b60c5807",
   "metadata": {},
   "source": [
    "The following code block takes metadata from the input excel file and dumps them into two yaml files, retriever.yaml and dataset.yaml. These yaml files may need further editing after creation, but this code is a good place to get started."
   ]
  },
  {
   "cell_type": "code",
   "execution_count": 2,
   "id": "c61c59d3",
   "metadata": {},
   "outputs": [
    {
     "name": "stdout",
     "output_type": "stream",
     "text": [
      "done\n"
     ]
    }
   ],
   "source": [
    "import numpy as np\n",
    "import pandas as pd\n",
    "import yaml\n",
    "\n",
    "sheetnames = ['Metadata','Independent Variables','Dependent Variables']\n",
    "data = {}\n",
    "for sheet in sheetnames:\n",
    "    # read and format data\n",
    "    data[sheet] = pd.read_excel(fpath, sheet_name=sheet, skiprows=1)\n",
    "\n",
    "## Create yaml files\n",
    "out = {'attrs': {}, 'coords': {}, 'data_vars':{}}\n",
    "ret = {'classname': 'tsdat.io.retrievers.DefaultRetriever',\n",
    "       'readers': {'.*': {'classname': 'tsdat.io.readers.CSVReader'}},\n",
    "       'coords': {},\n",
    "       'data_vars': {}}\n",
    "\n",
    "# Fetch attributes\n",
    "for item in data['Metadata'].columns:\n",
    "    name = item.lower().replace(\" \",\"_\")\n",
    "    out['attrs'].update({name: data['Metadata'][item].squeeze()})\n",
    "\n",
    "# Fetch coordinates\n",
    "dc = data['Independent Variables']\n",
    "dc['Standardized Unit'].replace(np.nan, \"1\", inplace=True)\n",
    "dc['Original Unit'].replace(np.nan, \"1\", inplace=True)\n",
    "dc['Long Name'].replace(np.nan,\"\", inplace=True)\n",
    "for i in dc.index:\n",
    "    # Variable name\n",
    "    coord = dc['Standardized Name'][i].title()\n",
    "    name = coord.lower().replace(\" \",\"_\")\n",
    "    # Units\n",
    "    unit = dc['Standardized Unit'][i]\n",
    "    old_unit = dc['Original Unit'][i]\n",
    "    # Dataset yaml setup\n",
    "    out['coords'].update({name: {'dims': [name],\n",
    "                                 'dtype': dc['Datatype'][i],\n",
    "                                 'attrs': {'units': unit,\n",
    "                                           'long_name': dc['Long Name'][i],\n",
    "                                           },\n",
    "                                 }\n",
    "                          })\n",
    "    # Retriever yaml setup\n",
    "    ret['coords'].update({name: {'name': dc['Original Name'][i]}})\n",
    "    # Add data converters\n",
    "    if not unit == old_unit:\n",
    "        if 'time' in name:\n",
    "            d = {'data_converters': [{'classname': 'tsdat.io.converters.StringToDatetime',\n",
    "                                      'format': old_unit,\n",
    "                                      'timezone': 'UTC',\n",
    "                                      }]\n",
    "                 }\n",
    "        else:\n",
    "            d = {'data_converters': [{'classname': 'tsdat.io.converters.UnitsConverter',\n",
    "                                      'input_units': old_unit\n",
    "                                      }]\n",
    "                 }\n",
    "        ret['coords'][name].update(d)\n",
    "\n",
    "# Fetch data variables\n",
    "dv = data['Dependent Variables']\n",
    "dv['Standardized Unit'].replace(np.nan, \"1\", inplace=True)\n",
    "dv['Original Unit'].replace(np.nan, \"1\", inplace=True)\n",
    "dv['Description'].replace(np.nan,\"\", inplace=True)\n",
    "dv['Valid Minimum Value'].replace(np.nan, None, inplace=True)\n",
    "dv['Valid Maximum Value'].replace(np.nan, None, inplace=True)\n",
    "for i in dv.index:\n",
    "    # Variable Name\n",
    "    coord = dv['Standardized Name'][i].title()\n",
    "    name = coord.lower().replace(\" \",\"_\")\n",
    "    # Units\n",
    "    unit = dv['Standardized Unit'][i]\n",
    "    old_unit = dv['Original Unit'][i]\n",
    "    # Dataset yaml setup\n",
    "    out['data_vars'].update({name: {'dims': dv['Dimensions'][i].replace(' ','').rsplit(','),\n",
    "                                    'dtype': dv['Datatype'][i],\n",
    "                                    'attrs': {'units': unit,\n",
    "                                              'description': dv['Description'][i],\n",
    "                                              'long_name': coord,\n",
    "                                              },\n",
    "                                    }\n",
    "                             })\n",
    "    valid_min = dv['Valid Minimum Value'][i]\n",
    "    valid_max = dv['Valid Maximum Value'][i]\n",
    "    type_list = [str, int, np.ndarray, float, list, tuple]\n",
    "    if type(valid_min) in type_list:\n",
    "        out['data_vars'][name]['attrs'].update({'valid_min': valid_min})\n",
    "    if type(valid_max) in type_list:\n",
    "        out['data_vars'][name]['attrs'].update({'valid_min': valid_min})\n",
    "\n",
    "    # Retriever yaml setup\n",
    "    ret['data_vars'].update({name: {'name': dv['Original Name'][i]}})\n",
    "    # Add data converters\n",
    "    if not unit == old_unit:\n",
    "        ret['data_vars'][name].update({'data_converters': [{'classname': 'tsdat.io.converters.UnitsConverter',\n",
    "                                                            'input_units': old_unit,\n",
    "                                                            }]\n",
    "                                      })\n",
    "\n",
    "\n",
    "with open('dataset.yaml','w') as file:\n",
    "    yaml.dump(out, file) #  default_flow_style=None\n",
    "with open('retriever.yaml','w') as file:\n",
    "    yaml.dump(ret, file) #  default_flow_style=None\n",
    "\n",
    "print('done')"
   ]
  },
  {
   "cell_type": "code",
   "execution_count": null,
   "id": "52d22905",
   "metadata": {},
   "outputs": [],
   "source": []
  }
 ],
 "metadata": {
  "kernelspec": {
   "display_name": "Python 3 (ipykernel)",
   "language": "python",
   "name": "python3"
  },
  "language_info": {
   "codemirror_mode": {
    "name": "ipython",
    "version": 3
   },
   "file_extension": ".py",
   "mimetype": "text/x-python",
   "name": "python",
   "nbconvert_exporter": "python",
   "pygments_lexer": "ipython3",
   "version": "3.9.12"
  },
  "vscode": {
   "interpreter": {
    "hash": "357206ab7e4935423e95e994af80e27e7e6c0672abcebb9d86ab743298213348"
   }
  }
 },
 "nbformat": 4,
 "nbformat_minor": 5
}
