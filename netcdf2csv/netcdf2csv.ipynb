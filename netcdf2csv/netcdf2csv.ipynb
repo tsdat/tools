{
 "cells": [
  {
   "attachments": {},
   "cell_type": "markdown",
   "metadata": {},
   "source": [
    "## NetCDF to CSV Writer\n",
    "\n",
    "This jupyter notebook takes a NetCDF file produced by Tsdat and converts it into a series of CSV files. Each dataset will create at least 3 CSV files: \n",
    " 1. A header file containing global metadata\n",
    " 2. A variable attributes file containing variable metadata\n",
    " 3. A variable data file contain raw data\n",
    " \n",
    " Datasets with multiple dimensions will have an additional data file for each additional dimension (variables with dimensions \"time\" and \"height\" or \"time\" and \"depth\" will be saved in two different files labelled accordingly). 3D variables cannot currently be saved into CSV format.\n",
    "\n",
    " Start by reading in the file:"
   ]
  },
  {
   "cell_type": "code",
   "execution_count": null,
   "metadata": {},
   "outputs": [],
   "source": [
    "import xarray as xr\n",
    "\n",
    "# Import the dataset\n",
    "filepath = \"data/morro.buoy_z06-waves.a1.20201201.000000.nc\"\n",
    "ds = xr.open_dataset(filepath)"
   ]
  },
  {
   "attachments": {},
   "cell_type": "markdown",
   "metadata": {},
   "source": [
    "Once the dataset is loaded into the notebook, one can type in the name of the dataset to see and explore its contents:"
   ]
  },
  {
   "cell_type": "code",
   "execution_count": null,
   "metadata": {},
   "outputs": [],
   "source": [
    "# Check out the dataset, if desired\n",
    "ds"
   ]
  },
  {
   "attachments": {},
   "cell_type": "markdown",
   "metadata": {},
   "source": [
    "### Save the dataset to CSV\n",
    "\n",
    "Save the dataset by running the following two code blocks in sequence. There are optional parameter inputs provided if more control is desired over the output files. \n",
    "\n",
    "The first parameter, \"dim_order\", pertains to the ordering of dimensions of multidimensional variables. For example, if a variable has two dimensions of 'time' and 'height', the user can specify which is ordered first (['time', 'height'] or ['height', 'time']).\n",
    "\n",
    "The second parameter, \"to_csv_kwargs\", is a dictionary of arguments passed to [pandas.DataFrame.to_csv](https://pandas.pydata.org/docs/reference/api/pandas.DataFrame.to_csv.html), useful for specifying different delimiters and such. For example, to change the delimiter to a tab and use the standard Linux line terminator: ``parameters['to_csv_kwargs'] = {'sep': '\\t', 'lineterminator': '\\n'}``."
   ]
  },
  {
   "cell_type": "code",
   "execution_count": null,
   "metadata": {},
   "outputs": [],
   "source": [
    "from typing import Optional, List, Dict, Any\n",
    "\n",
    "# 1. Set optional parameters\n",
    "parameters = dict()\n",
    "parameters['dim_order']: Optional[List[str]] = None  # Order of dimensions to save in multi-dimensional files\n",
    "parameters['to_csv_kwargs']: Dict[str, Any] = {}  # Keyword arguments passed to `pandas.DataFrame.to_csv`"
   ]
  },
  {
   "attachments": {},
   "cell_type": "markdown",
   "metadata": {},
   "source": [
    "Finally, run the following code block to convert the file:"
   ]
  },
  {
   "cell_type": "code",
   "execution_count": null,
   "metadata": {},
   "outputs": [],
   "source": [
    "# 2. Run code\n",
    "from pathlib import Path\n",
    "from netcdf2csv import write\n",
    "\n",
    "write(ds, Path(filepath).with_suffix(''), parameters)"
   ]
  }
 ],
 "metadata": {
  "kernelspec": {
   "display_name": "Python 3.9.12 ('base')",
   "language": "python",
   "name": "python3"
  },
  "language_info": {
   "codemirror_mode": {
    "name": "ipython",
    "version": 3
   },
   "file_extension": ".py",
   "mimetype": "text/x-python",
   "name": "python",
   "nbconvert_exporter": "python",
   "pygments_lexer": "ipython3",
   "version": "3.9.15"
  },
  "orig_nbformat": 4,
  "vscode": {
   "interpreter": {
    "hash": "357206ab7e4935423e95e994af80e27e7e6c0672abcebb9d86ab743298213348"
   }
  }
 },
 "nbformat": 4,
 "nbformat_minor": 2
}
