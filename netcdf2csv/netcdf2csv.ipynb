{
 "cells": [
  {
   "attachments": {},
   "cell_type": "markdown",
   "metadata": {},
   "source": [
    "## NetCDF to CSV Writer\n"
   ]
  },
  {
   "cell_type": "code",
   "execution_count": null,
   "metadata": {},
   "outputs": [],
   "source": [
    "import xarray as xr\n",
    "from typing import Optional, List, Dict, Any\n",
    "\n",
    "# Import the dataset\n",
    "filepath = \"data/morro.buoy_z06-waves.a1.20201201.000000.nc\"\n",
    "ds = xr.open_dataset(filepath)"
   ]
  },
  {
   "cell_type": "code",
   "execution_count": null,
   "metadata": {},
   "outputs": [],
   "source": [
    "# Check out the dataset\n",
    "ds"
   ]
  },
  {
   "attachments": {},
   "cell_type": "markdown",
   "metadata": {},
   "source": [
    "#### Save the dataset to CSV files"
   ]
  },
  {
   "cell_type": "code",
   "execution_count": null,
   "metadata": {},
   "outputs": [],
   "source": [
    "# 1. Set optional parameters\n",
    "parameters = dict()\n",
    "parameters['dim_order']: Optional[List[str]] = None  # Order of dimensions to save in multi-dimensional files\n",
    "parameters['to_csv_kwargs']: Dict[str, Any] = {}  # Keyword arguments passed to `pandas.DataFrame.to_csv()`"
   ]
  },
  {
   "cell_type": "code",
   "execution_count": null,
   "metadata": {},
   "outputs": [],
   "source": [
    "# 2. Run code\n",
    "from pathlib import Path\n",
    "from netcdf2csv import write\n",
    "\n",
    "write(ds, Path(filepath).with_suffix(''), parameters)"
   ]
  }
 ],
 "metadata": {
  "kernelspec": {
   "display_name": "Python 3.9.12 ('base')",
   "language": "python",
   "name": "python3"
  },
  "language_info": {
   "codemirror_mode": {
    "name": "ipython",
    "version": 3
   },
   "file_extension": ".py",
   "mimetype": "text/x-python",
   "name": "python",
   "nbconvert_exporter": "python",
   "pygments_lexer": "ipython3",
   "version": "3.9.15"
  },
  "orig_nbformat": 4,
  "vscode": {
   "interpreter": {
    "hash": "357206ab7e4935423e95e994af80e27e7e6c0672abcebb9d86ab743298213348"
   }
  }
 },
 "nbformat": 4,
 "nbformat_minor": 2
}
